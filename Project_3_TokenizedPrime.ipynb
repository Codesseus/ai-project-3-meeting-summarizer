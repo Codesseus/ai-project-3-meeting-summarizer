{
  "nbformat": 4,
  "nbformat_minor": 0,
  "metadata": {
    "colab": {
      "provenance": []
    },
    "kernelspec": {
      "name": "python3",
      "display_name": "Python 3"
    },
    "language_info": {
      "name": "python"
    }
  },
  "cells": [
    {
      "cell_type": "code",
      "execution_count": 1,
      "metadata": {
        "colab": {
          "base_uri": "https://localhost:8080/"
        },
        "id": "kG0VrFHzbsTT",
        "outputId": "778072fe-9b50-4bf2-b58c-c94f317fac4b"
      },
      "outputs": [
        {
          "output_type": "stream",
          "name": "stdout",
          "text": [
            "Collecting sentence-transformers\n",
            "  Downloading sentence_transformers-2.7.0-py3-none-any.whl (171 kB)\n",
            "\u001b[2K     \u001b[90m━━━━━━━━━━━━━━━━━━━━━━━━━━━━━━━━━━━━━━━━\u001b[0m \u001b[32m171.5/171.5 kB\u001b[0m \u001b[31m1.9 MB/s\u001b[0m eta \u001b[36m0:00:00\u001b[0m\n",
            "\u001b[?25hRequirement already satisfied: transformers<5.0.0,>=4.34.0 in /usr/local/lib/python3.10/dist-packages (from sentence-transformers) (4.40.2)\n",
            "Requirement already satisfied: tqdm in /usr/local/lib/python3.10/dist-packages (from sentence-transformers) (4.66.4)\n",
            "Requirement already satisfied: torch>=1.11.0 in /usr/local/lib/python3.10/dist-packages (from sentence-transformers) (2.2.1+cu121)\n",
            "Requirement already satisfied: numpy in /usr/local/lib/python3.10/dist-packages (from sentence-transformers) (1.25.2)\n",
            "Requirement already satisfied: scikit-learn in /usr/local/lib/python3.10/dist-packages (from sentence-transformers) (1.2.2)\n",
            "Requirement already satisfied: scipy in /usr/local/lib/python3.10/dist-packages (from sentence-transformers) (1.11.4)\n",
            "Requirement already satisfied: huggingface-hub>=0.15.1 in /usr/local/lib/python3.10/dist-packages (from sentence-transformers) (0.20.3)\n",
            "Requirement already satisfied: Pillow in /usr/local/lib/python3.10/dist-packages (from sentence-transformers) (9.4.0)\n",
            "Requirement already satisfied: filelock in /usr/local/lib/python3.10/dist-packages (from huggingface-hub>=0.15.1->sentence-transformers) (3.14.0)\n",
            "Requirement already satisfied: fsspec>=2023.5.0 in /usr/local/lib/python3.10/dist-packages (from huggingface-hub>=0.15.1->sentence-transformers) (2023.6.0)\n",
            "Requirement already satisfied: requests in /usr/local/lib/python3.10/dist-packages (from huggingface-hub>=0.15.1->sentence-transformers) (2.31.0)\n",
            "Requirement already satisfied: pyyaml>=5.1 in /usr/local/lib/python3.10/dist-packages (from huggingface-hub>=0.15.1->sentence-transformers) (6.0.1)\n",
            "Requirement already satisfied: typing-extensions>=3.7.4.3 in /usr/local/lib/python3.10/dist-packages (from huggingface-hub>=0.15.1->sentence-transformers) (4.11.0)\n",
            "Requirement already satisfied: packaging>=20.9 in /usr/local/lib/python3.10/dist-packages (from huggingface-hub>=0.15.1->sentence-transformers) (24.0)\n",
            "Requirement already satisfied: sympy in /usr/local/lib/python3.10/dist-packages (from torch>=1.11.0->sentence-transformers) (1.12)\n",
            "Requirement already satisfied: networkx in /usr/local/lib/python3.10/dist-packages (from torch>=1.11.0->sentence-transformers) (3.3)\n",
            "Requirement already satisfied: jinja2 in /usr/local/lib/python3.10/dist-packages (from torch>=1.11.0->sentence-transformers) (3.1.4)\n",
            "Collecting nvidia-cuda-nvrtc-cu12==12.1.105 (from torch>=1.11.0->sentence-transformers)\n",
            "  Using cached nvidia_cuda_nvrtc_cu12-12.1.105-py3-none-manylinux1_x86_64.whl (23.7 MB)\n",
            "Collecting nvidia-cuda-runtime-cu12==12.1.105 (from torch>=1.11.0->sentence-transformers)\n",
            "  Using cached nvidia_cuda_runtime_cu12-12.1.105-py3-none-manylinux1_x86_64.whl (823 kB)\n",
            "Collecting nvidia-cuda-cupti-cu12==12.1.105 (from torch>=1.11.0->sentence-transformers)\n",
            "  Using cached nvidia_cuda_cupti_cu12-12.1.105-py3-none-manylinux1_x86_64.whl (14.1 MB)\n",
            "Collecting nvidia-cudnn-cu12==8.9.2.26 (from torch>=1.11.0->sentence-transformers)\n",
            "  Using cached nvidia_cudnn_cu12-8.9.2.26-py3-none-manylinux1_x86_64.whl (731.7 MB)\n",
            "Collecting nvidia-cublas-cu12==12.1.3.1 (from torch>=1.11.0->sentence-transformers)\n",
            "  Using cached nvidia_cublas_cu12-12.1.3.1-py3-none-manylinux1_x86_64.whl (410.6 MB)\n",
            "Collecting nvidia-cufft-cu12==11.0.2.54 (from torch>=1.11.0->sentence-transformers)\n",
            "  Using cached nvidia_cufft_cu12-11.0.2.54-py3-none-manylinux1_x86_64.whl (121.6 MB)\n",
            "Collecting nvidia-curand-cu12==10.3.2.106 (from torch>=1.11.0->sentence-transformers)\n",
            "  Using cached nvidia_curand_cu12-10.3.2.106-py3-none-manylinux1_x86_64.whl (56.5 MB)\n",
            "Collecting nvidia-cusolver-cu12==11.4.5.107 (from torch>=1.11.0->sentence-transformers)\n",
            "  Using cached nvidia_cusolver_cu12-11.4.5.107-py3-none-manylinux1_x86_64.whl (124.2 MB)\n",
            "Collecting nvidia-cusparse-cu12==12.1.0.106 (from torch>=1.11.0->sentence-transformers)\n",
            "  Using cached nvidia_cusparse_cu12-12.1.0.106-py3-none-manylinux1_x86_64.whl (196.0 MB)\n",
            "Collecting nvidia-nccl-cu12==2.19.3 (from torch>=1.11.0->sentence-transformers)\n",
            "  Using cached nvidia_nccl_cu12-2.19.3-py3-none-manylinux1_x86_64.whl (166.0 MB)\n",
            "Collecting nvidia-nvtx-cu12==12.1.105 (from torch>=1.11.0->sentence-transformers)\n",
            "  Using cached nvidia_nvtx_cu12-12.1.105-py3-none-manylinux1_x86_64.whl (99 kB)\n",
            "Requirement already satisfied: triton==2.2.0 in /usr/local/lib/python3.10/dist-packages (from torch>=1.11.0->sentence-transformers) (2.2.0)\n",
            "Collecting nvidia-nvjitlink-cu12 (from nvidia-cusolver-cu12==11.4.5.107->torch>=1.11.0->sentence-transformers)\n",
            "  Using cached nvidia_nvjitlink_cu12-12.4.127-py3-none-manylinux2014_x86_64.whl (21.1 MB)\n",
            "Requirement already satisfied: regex!=2019.12.17 in /usr/local/lib/python3.10/dist-packages (from transformers<5.0.0,>=4.34.0->sentence-transformers) (2023.12.25)\n",
            "Requirement already satisfied: tokenizers<0.20,>=0.19 in /usr/local/lib/python3.10/dist-packages (from transformers<5.0.0,>=4.34.0->sentence-transformers) (0.19.1)\n",
            "Requirement already satisfied: safetensors>=0.4.1 in /usr/local/lib/python3.10/dist-packages (from transformers<5.0.0,>=4.34.0->sentence-transformers) (0.4.3)\n",
            "Requirement already satisfied: joblib>=1.1.1 in /usr/local/lib/python3.10/dist-packages (from scikit-learn->sentence-transformers) (1.4.2)\n",
            "Requirement already satisfied: threadpoolctl>=2.0.0 in /usr/local/lib/python3.10/dist-packages (from scikit-learn->sentence-transformers) (3.5.0)\n",
            "Requirement already satisfied: MarkupSafe>=2.0 in /usr/local/lib/python3.10/dist-packages (from jinja2->torch>=1.11.0->sentence-transformers) (2.1.5)\n",
            "Requirement already satisfied: charset-normalizer<4,>=2 in /usr/local/lib/python3.10/dist-packages (from requests->huggingface-hub>=0.15.1->sentence-transformers) (3.3.2)\n",
            "Requirement already satisfied: idna<4,>=2.5 in /usr/local/lib/python3.10/dist-packages (from requests->huggingface-hub>=0.15.1->sentence-transformers) (3.7)\n",
            "Requirement already satisfied: urllib3<3,>=1.21.1 in /usr/local/lib/python3.10/dist-packages (from requests->huggingface-hub>=0.15.1->sentence-transformers) (2.0.7)\n",
            "Requirement already satisfied: certifi>=2017.4.17 in /usr/local/lib/python3.10/dist-packages (from requests->huggingface-hub>=0.15.1->sentence-transformers) (2024.2.2)\n",
            "Requirement already satisfied: mpmath>=0.19 in /usr/local/lib/python3.10/dist-packages (from sympy->torch>=1.11.0->sentence-transformers) (1.3.0)\n",
            "Installing collected packages: nvidia-nvtx-cu12, nvidia-nvjitlink-cu12, nvidia-nccl-cu12, nvidia-curand-cu12, nvidia-cufft-cu12, nvidia-cuda-runtime-cu12, nvidia-cuda-nvrtc-cu12, nvidia-cuda-cupti-cu12, nvidia-cublas-cu12, nvidia-cusparse-cu12, nvidia-cudnn-cu12, nvidia-cusolver-cu12, sentence-transformers\n",
            "Successfully installed nvidia-cublas-cu12-12.1.3.1 nvidia-cuda-cupti-cu12-12.1.105 nvidia-cuda-nvrtc-cu12-12.1.105 nvidia-cuda-runtime-cu12-12.1.105 nvidia-cudnn-cu12-8.9.2.26 nvidia-cufft-cu12-11.0.2.54 nvidia-curand-cu12-10.3.2.106 nvidia-cusolver-cu12-11.4.5.107 nvidia-cusparse-cu12-12.1.0.106 nvidia-nccl-cu12-2.19.3 nvidia-nvjitlink-cu12-12.4.127 nvidia-nvtx-cu12-12.1.105 sentence-transformers-2.7.0\n"
          ]
        }
      ],
      "source": [
        "! pip install sentence-transformers"
      ]
    },
    {
      "cell_type": "code",
      "source": [
        "import re\n",
        "import nltk\n",
        "\n",
        "# Download the necessary NLTK resources\n",
        "nltk.download('punkt')"
      ],
      "metadata": {
        "colab": {
          "base_uri": "https://localhost:8080/"
        },
        "id": "7musF8pcchj_",
        "outputId": "18a41113-cdbd-47f5-a87d-6568f0c6232c"
      },
      "execution_count": 2,
      "outputs": [
        {
          "output_type": "stream",
          "name": "stderr",
          "text": [
            "[nltk_data] Downloading package punkt to /root/nltk_data...\n",
            "[nltk_data]   Unzipping tokenizers/punkt.zip.\n"
          ]
        },
        {
          "output_type": "execute_result",
          "data": {
            "text/plain": [
              "True"
            ]
          },
          "metadata": {},
          "execution_count": 2
        }
      ]
    },
    {
      "cell_type": "code",
      "source": [
        "from google.colab import files\n",
        "uploaded = files.upload()"
      ],
      "metadata": {
        "colab": {
          "base_uri": "https://localhost:8080/",
          "height": 74
        },
        "id": "PiQ8yNPqcpJ0",
        "outputId": "410773ee-5797-4183-c59a-e9717bbb259d"
      },
      "execution_count": 4,
      "outputs": [
        {
          "output_type": "display_data",
          "data": {
            "text/plain": [
              "<IPython.core.display.HTML object>"
            ],
            "text/html": [
              "\n",
              "     <input type=\"file\" id=\"files-ae887359-b91d-4df9-819b-1a4e44ab4f74\" name=\"files[]\" multiple disabled\n",
              "        style=\"border:none\" />\n",
              "     <output id=\"result-ae887359-b91d-4df9-819b-1a4e44ab4f74\">\n",
              "      Upload widget is only available when the cell has been executed in the\n",
              "      current browser session. Please rerun this cell to enable.\n",
              "      </output>\n",
              "      <script>// Copyright 2017 Google LLC\n",
              "//\n",
              "// Licensed under the Apache License, Version 2.0 (the \"License\");\n",
              "// you may not use this file except in compliance with the License.\n",
              "// You may obtain a copy of the License at\n",
              "//\n",
              "//      http://www.apache.org/licenses/LICENSE-2.0\n",
              "//\n",
              "// Unless required by applicable law or agreed to in writing, software\n",
              "// distributed under the License is distributed on an \"AS IS\" BASIS,\n",
              "// WITHOUT WARRANTIES OR CONDITIONS OF ANY KIND, either express or implied.\n",
              "// See the License for the specific language governing permissions and\n",
              "// limitations under the License.\n",
              "\n",
              "/**\n",
              " * @fileoverview Helpers for google.colab Python module.\n",
              " */\n",
              "(function(scope) {\n",
              "function span(text, styleAttributes = {}) {\n",
              "  const element = document.createElement('span');\n",
              "  element.textContent = text;\n",
              "  for (const key of Object.keys(styleAttributes)) {\n",
              "    element.style[key] = styleAttributes[key];\n",
              "  }\n",
              "  return element;\n",
              "}\n",
              "\n",
              "// Max number of bytes which will be uploaded at a time.\n",
              "const MAX_PAYLOAD_SIZE = 100 * 1024;\n",
              "\n",
              "function _uploadFiles(inputId, outputId) {\n",
              "  const steps = uploadFilesStep(inputId, outputId);\n",
              "  const outputElement = document.getElementById(outputId);\n",
              "  // Cache steps on the outputElement to make it available for the next call\n",
              "  // to uploadFilesContinue from Python.\n",
              "  outputElement.steps = steps;\n",
              "\n",
              "  return _uploadFilesContinue(outputId);\n",
              "}\n",
              "\n",
              "// This is roughly an async generator (not supported in the browser yet),\n",
              "// where there are multiple asynchronous steps and the Python side is going\n",
              "// to poll for completion of each step.\n",
              "// This uses a Promise to block the python side on completion of each step,\n",
              "// then passes the result of the previous step as the input to the next step.\n",
              "function _uploadFilesContinue(outputId) {\n",
              "  const outputElement = document.getElementById(outputId);\n",
              "  const steps = outputElement.steps;\n",
              "\n",
              "  const next = steps.next(outputElement.lastPromiseValue);\n",
              "  return Promise.resolve(next.value.promise).then((value) => {\n",
              "    // Cache the last promise value to make it available to the next\n",
              "    // step of the generator.\n",
              "    outputElement.lastPromiseValue = value;\n",
              "    return next.value.response;\n",
              "  });\n",
              "}\n",
              "\n",
              "/**\n",
              " * Generator function which is called between each async step of the upload\n",
              " * process.\n",
              " * @param {string} inputId Element ID of the input file picker element.\n",
              " * @param {string} outputId Element ID of the output display.\n",
              " * @return {!Iterable<!Object>} Iterable of next steps.\n",
              " */\n",
              "function* uploadFilesStep(inputId, outputId) {\n",
              "  const inputElement = document.getElementById(inputId);\n",
              "  inputElement.disabled = false;\n",
              "\n",
              "  const outputElement = document.getElementById(outputId);\n",
              "  outputElement.innerHTML = '';\n",
              "\n",
              "  const pickedPromise = new Promise((resolve) => {\n",
              "    inputElement.addEventListener('change', (e) => {\n",
              "      resolve(e.target.files);\n",
              "    });\n",
              "  });\n",
              "\n",
              "  const cancel = document.createElement('button');\n",
              "  inputElement.parentElement.appendChild(cancel);\n",
              "  cancel.textContent = 'Cancel upload';\n",
              "  const cancelPromise = new Promise((resolve) => {\n",
              "    cancel.onclick = () => {\n",
              "      resolve(null);\n",
              "    };\n",
              "  });\n",
              "\n",
              "  // Wait for the user to pick the files.\n",
              "  const files = yield {\n",
              "    promise: Promise.race([pickedPromise, cancelPromise]),\n",
              "    response: {\n",
              "      action: 'starting',\n",
              "    }\n",
              "  };\n",
              "\n",
              "  cancel.remove();\n",
              "\n",
              "  // Disable the input element since further picks are not allowed.\n",
              "  inputElement.disabled = true;\n",
              "\n",
              "  if (!files) {\n",
              "    return {\n",
              "      response: {\n",
              "        action: 'complete',\n",
              "      }\n",
              "    };\n",
              "  }\n",
              "\n",
              "  for (const file of files) {\n",
              "    const li = document.createElement('li');\n",
              "    li.append(span(file.name, {fontWeight: 'bold'}));\n",
              "    li.append(span(\n",
              "        `(${file.type || 'n/a'}) - ${file.size} bytes, ` +\n",
              "        `last modified: ${\n",
              "            file.lastModifiedDate ? file.lastModifiedDate.toLocaleDateString() :\n",
              "                                    'n/a'} - `));\n",
              "    const percent = span('0% done');\n",
              "    li.appendChild(percent);\n",
              "\n",
              "    outputElement.appendChild(li);\n",
              "\n",
              "    const fileDataPromise = new Promise((resolve) => {\n",
              "      const reader = new FileReader();\n",
              "      reader.onload = (e) => {\n",
              "        resolve(e.target.result);\n",
              "      };\n",
              "      reader.readAsArrayBuffer(file);\n",
              "    });\n",
              "    // Wait for the data to be ready.\n",
              "    let fileData = yield {\n",
              "      promise: fileDataPromise,\n",
              "      response: {\n",
              "        action: 'continue',\n",
              "      }\n",
              "    };\n",
              "\n",
              "    // Use a chunked sending to avoid message size limits. See b/62115660.\n",
              "    let position = 0;\n",
              "    do {\n",
              "      const length = Math.min(fileData.byteLength - position, MAX_PAYLOAD_SIZE);\n",
              "      const chunk = new Uint8Array(fileData, position, length);\n",
              "      position += length;\n",
              "\n",
              "      const base64 = btoa(String.fromCharCode.apply(null, chunk));\n",
              "      yield {\n",
              "        response: {\n",
              "          action: 'append',\n",
              "          file: file.name,\n",
              "          data: base64,\n",
              "        },\n",
              "      };\n",
              "\n",
              "      let percentDone = fileData.byteLength === 0 ?\n",
              "          100 :\n",
              "          Math.round((position / fileData.byteLength) * 100);\n",
              "      percent.textContent = `${percentDone}% done`;\n",
              "\n",
              "    } while (position < fileData.byteLength);\n",
              "  }\n",
              "\n",
              "  // All done.\n",
              "  yield {\n",
              "    response: {\n",
              "      action: 'complete',\n",
              "    }\n",
              "  };\n",
              "}\n",
              "\n",
              "scope.google = scope.google || {};\n",
              "scope.google.colab = scope.google.colab || {};\n",
              "scope.google.colab._files = {\n",
              "  _uploadFiles,\n",
              "  _uploadFilesContinue,\n",
              "};\n",
              "})(self);\n",
              "</script> "
            ]
          },
          "metadata": {}
        },
        {
          "output_type": "stream",
          "name": "stdout",
          "text": [
            "Saving Example_1_with_timestamps.txt to Example_1_with_timestamps (1).txt\n"
          ]
        }
      ]
    },
    {
      "cell_type": "code",
      "source": [
        "from google.colab import files\n",
        "uploaded = files.upload()"
      ],
      "metadata": {
        "colab": {
          "base_uri": "https://localhost:8080/",
          "height": 74
        },
        "id": "0QDCuW9jc7EO",
        "outputId": "a9eb9333-2d49-4c1b-fc19-16ca64c7c2d2"
      },
      "execution_count": 5,
      "outputs": [
        {
          "output_type": "display_data",
          "data": {
            "text/plain": [
              "<IPython.core.display.HTML object>"
            ],
            "text/html": [
              "\n",
              "     <input type=\"file\" id=\"files-8032a83e-c2f9-4eda-9734-057b141959a7\" name=\"files[]\" multiple disabled\n",
              "        style=\"border:none\" />\n",
              "     <output id=\"result-8032a83e-c2f9-4eda-9734-057b141959a7\">\n",
              "      Upload widget is only available when the cell has been executed in the\n",
              "      current browser session. Please rerun this cell to enable.\n",
              "      </output>\n",
              "      <script>// Copyright 2017 Google LLC\n",
              "//\n",
              "// Licensed under the Apache License, Version 2.0 (the \"License\");\n",
              "// you may not use this file except in compliance with the License.\n",
              "// You may obtain a copy of the License at\n",
              "//\n",
              "//      http://www.apache.org/licenses/LICENSE-2.0\n",
              "//\n",
              "// Unless required by applicable law or agreed to in writing, software\n",
              "// distributed under the License is distributed on an \"AS IS\" BASIS,\n",
              "// WITHOUT WARRANTIES OR CONDITIONS OF ANY KIND, either express or implied.\n",
              "// See the License for the specific language governing permissions and\n",
              "// limitations under the License.\n",
              "\n",
              "/**\n",
              " * @fileoverview Helpers for google.colab Python module.\n",
              " */\n",
              "(function(scope) {\n",
              "function span(text, styleAttributes = {}) {\n",
              "  const element = document.createElement('span');\n",
              "  element.textContent = text;\n",
              "  for (const key of Object.keys(styleAttributes)) {\n",
              "    element.style[key] = styleAttributes[key];\n",
              "  }\n",
              "  return element;\n",
              "}\n",
              "\n",
              "// Max number of bytes which will be uploaded at a time.\n",
              "const MAX_PAYLOAD_SIZE = 100 * 1024;\n",
              "\n",
              "function _uploadFiles(inputId, outputId) {\n",
              "  const steps = uploadFilesStep(inputId, outputId);\n",
              "  const outputElement = document.getElementById(outputId);\n",
              "  // Cache steps on the outputElement to make it available for the next call\n",
              "  // to uploadFilesContinue from Python.\n",
              "  outputElement.steps = steps;\n",
              "\n",
              "  return _uploadFilesContinue(outputId);\n",
              "}\n",
              "\n",
              "// This is roughly an async generator (not supported in the browser yet),\n",
              "// where there are multiple asynchronous steps and the Python side is going\n",
              "// to poll for completion of each step.\n",
              "// This uses a Promise to block the python side on completion of each step,\n",
              "// then passes the result of the previous step as the input to the next step.\n",
              "function _uploadFilesContinue(outputId) {\n",
              "  const outputElement = document.getElementById(outputId);\n",
              "  const steps = outputElement.steps;\n",
              "\n",
              "  const next = steps.next(outputElement.lastPromiseValue);\n",
              "  return Promise.resolve(next.value.promise).then((value) => {\n",
              "    // Cache the last promise value to make it available to the next\n",
              "    // step of the generator.\n",
              "    outputElement.lastPromiseValue = value;\n",
              "    return next.value.response;\n",
              "  });\n",
              "}\n",
              "\n",
              "/**\n",
              " * Generator function which is called between each async step of the upload\n",
              " * process.\n",
              " * @param {string} inputId Element ID of the input file picker element.\n",
              " * @param {string} outputId Element ID of the output display.\n",
              " * @return {!Iterable<!Object>} Iterable of next steps.\n",
              " */\n",
              "function* uploadFilesStep(inputId, outputId) {\n",
              "  const inputElement = document.getElementById(inputId);\n",
              "  inputElement.disabled = false;\n",
              "\n",
              "  const outputElement = document.getElementById(outputId);\n",
              "  outputElement.innerHTML = '';\n",
              "\n",
              "  const pickedPromise = new Promise((resolve) => {\n",
              "    inputElement.addEventListener('change', (e) => {\n",
              "      resolve(e.target.files);\n",
              "    });\n",
              "  });\n",
              "\n",
              "  const cancel = document.createElement('button');\n",
              "  inputElement.parentElement.appendChild(cancel);\n",
              "  cancel.textContent = 'Cancel upload';\n",
              "  const cancelPromise = new Promise((resolve) => {\n",
              "    cancel.onclick = () => {\n",
              "      resolve(null);\n",
              "    };\n",
              "  });\n",
              "\n",
              "  // Wait for the user to pick the files.\n",
              "  const files = yield {\n",
              "    promise: Promise.race([pickedPromise, cancelPromise]),\n",
              "    response: {\n",
              "      action: 'starting',\n",
              "    }\n",
              "  };\n",
              "\n",
              "  cancel.remove();\n",
              "\n",
              "  // Disable the input element since further picks are not allowed.\n",
              "  inputElement.disabled = true;\n",
              "\n",
              "  if (!files) {\n",
              "    return {\n",
              "      response: {\n",
              "        action: 'complete',\n",
              "      }\n",
              "    };\n",
              "  }\n",
              "\n",
              "  for (const file of files) {\n",
              "    const li = document.createElement('li');\n",
              "    li.append(span(file.name, {fontWeight: 'bold'}));\n",
              "    li.append(span(\n",
              "        `(${file.type || 'n/a'}) - ${file.size} bytes, ` +\n",
              "        `last modified: ${\n",
              "            file.lastModifiedDate ? file.lastModifiedDate.toLocaleDateString() :\n",
              "                                    'n/a'} - `));\n",
              "    const percent = span('0% done');\n",
              "    li.appendChild(percent);\n",
              "\n",
              "    outputElement.appendChild(li);\n",
              "\n",
              "    const fileDataPromise = new Promise((resolve) => {\n",
              "      const reader = new FileReader();\n",
              "      reader.onload = (e) => {\n",
              "        resolve(e.target.result);\n",
              "      };\n",
              "      reader.readAsArrayBuffer(file);\n",
              "    });\n",
              "    // Wait for the data to be ready.\n",
              "    let fileData = yield {\n",
              "      promise: fileDataPromise,\n",
              "      response: {\n",
              "        action: 'continue',\n",
              "      }\n",
              "    };\n",
              "\n",
              "    // Use a chunked sending to avoid message size limits. See b/62115660.\n",
              "    let position = 0;\n",
              "    do {\n",
              "      const length = Math.min(fileData.byteLength - position, MAX_PAYLOAD_SIZE);\n",
              "      const chunk = new Uint8Array(fileData, position, length);\n",
              "      position += length;\n",
              "\n",
              "      const base64 = btoa(String.fromCharCode.apply(null, chunk));\n",
              "      yield {\n",
              "        response: {\n",
              "          action: 'append',\n",
              "          file: file.name,\n",
              "          data: base64,\n",
              "        },\n",
              "      };\n",
              "\n",
              "      let percentDone = fileData.byteLength === 0 ?\n",
              "          100 :\n",
              "          Math.round((position / fileData.byteLength) * 100);\n",
              "      percent.textContent = `${percentDone}% done`;\n",
              "\n",
              "    } while (position < fileData.byteLength);\n",
              "  }\n",
              "\n",
              "  // All done.\n",
              "  yield {\n",
              "    response: {\n",
              "      action: 'complete',\n",
              "    }\n",
              "  };\n",
              "}\n",
              "\n",
              "scope.google = scope.google || {};\n",
              "scope.google.colab = scope.google.colab || {};\n",
              "scope.google.colab._files = {\n",
              "  _uploadFiles,\n",
              "  _uploadFilesContinue,\n",
              "};\n",
              "})(self);\n",
              "</script> "
            ]
          },
          "metadata": {}
        },
        {
          "output_type": "stream",
          "name": "stdout",
          "text": [
            "Saving Example_1_summary.txt to Example_1_summary.txt\n"
          ]
        }
      ]
    },
    {
      "cell_type": "code",
      "source": [
        "# Read the file into a string\n",
        "with open('Example_1_with_timestamps.txt', 'r') as file:\n",
        "    file1_contents = file.read()\n",
        "\n",
        "# Print the contents\n",
        "print(file1_contents)"
      ],
      "metadata": {
        "colab": {
          "base_uri": "https://localhost:8080/"
        },
        "id": "SGHGUBPfdEe_",
        "outputId": "07f1ea79-4e00-464a-aa57-f5f0ab1fba0c"
      },
      "execution_count": 6,
      "outputs": [
        {
          "output_type": "stream",
          "name": "stdout",
          "text": [
            "[00:00:00]Hi Brent here where tech is made simple. I've had a couple of requests over the\n",
            "[00:00:06]last while on how to download and install a Windows update manually. Now I\n",
            "[00:00:11]know a lot of you know how to do this already but in this video I will just\n",
            "[00:00:14]demonstrate for those who don't and answer the question on how to download\n",
            "[00:00:19]and install a Windows update manually. Now Windows updates are delivered to the\n",
            "[00:00:24]Windows operating system through the Windows update process and for whatever\n",
            "[00:00:28]reason the update will not download and install correctly through the Windows\n",
            "[00:00:32]update process you have an alternative solution where you can go and download\n",
            "[00:00:38]the update manually from the Microsoft update catalog and normally the download\n",
            "[00:00:43]the manual download and installation will get the update to install correctly\n",
            "[00:00:48]if it is not working properly in the Windows update download and installation\n",
            "[00:00:52]process. Now online you just go and do a search for Microsoft update catalog and\n",
            "[00:00:58]when you open the update catalog it'll just start in the welcome screen and in\n",
            "[00:01:03]the search you just enter the update that you are trying to get installed. Now\n",
            "[00:01:08]as an example I'm just going to use last week's Patch Tuesday cumulative update\n",
            "[00:01:13]which rolled out which was KB5005033 and then you just hit\n",
            "[00:01:19]enter and on the left you will see all the Windows 10 versions that that update\n",
            "[00:01:25]applies to. Now if you don't know what version of Windows 10 you are using you\n",
            "[00:01:30]just head into your Windows settings system go down to the bottom and just\n",
            "[00:01:35]click on about and that will give you all the details if it's a 32-bit 64-bit\n",
            "[00:01:40]you know what version you're using and so on and that will answer and you know\n",
            "[00:01:45]get you to see what version of Windows 10 you're using if you don't know and\n",
            "[00:01:49]then I'm using Windows 10 version 21h 164-bit so if I click on that actual\n",
            "[00:01:57]update it gives me all the update details we can see it's 609.4 megabytes\n",
            "[00:02:03]in size gives you the overview and you can actually go to Microsoft support to\n",
            "[00:02:08]see what the update actually addresses you have package details and yeah it\n",
            "[00:02:13]says the update replaces the following updates so you can actually see what\n",
            "[00:02:19]other updates you have previously installed that this update is actually\n",
            "[00:02:22]going to be replacing which is quite handy and then install resources can\n",
            "[00:02:27]request restart and so on and if we close that and we just head back to that\n",
            "[00:02:31]entry 21h 164-bit and I go to the download and I click on that it tells me\n",
            "[00:02:39]a cumulative update for Windows 10 version 21h1 and that's for 64-bit\n",
            "[00:02:44]operating systems KB5005033 now that's exactly how it appears in the\n",
            "[00:02:50]Windows update and it's exactly the same update that you would get through the\n",
            "[00:02:54]Windows update in Windows 10 and then we just click on the download link and now\n",
            "[00:02:59]you have two options you can actually click on open where the if you don't\n",
            "[00:03:05]know where your download location is this will download and then once the\n",
            "[00:03:09]download is finished it will start the installation process automatically and\n",
            "[00:03:13]as in this example I'm just going to go save it to my download location on my\n",
            "[00:03:19]hard drive and I'm going to go save as now I've already downloaded the update\n",
            "[00:03:23]and as it will take too long to demonstrate in this video and once it's\n",
            "[00:03:27]downloaded obviously then you just head over to your download location on your\n",
            "[00:03:33]PC and mine is in my file explorer and downloads and here is the package\n",
            "[00:03:39]Windows 10 update KB5005033 and then all you do is you double click on that\n",
            "[00:03:45]package to start the installation process now it says Windows update\n",
            "[00:03:50]standalone installer preparing the installation now depending on obviously\n",
            "[00:03:55]the size and speed of your computer this can take a while so basically what it's\n",
            "[00:03:59]doing is just preparing like any other exe file and package it's preparing the\n",
            "[00:04:04]installation to be installed onto your Windows operating system and it should\n",
            "[00:04:09]be finishing shortly as I have run this already and now it's searching for\n",
            "[00:04:12]updates on this computer and once again like the previous step this depends on\n",
            "[00:04:17]the size and speed of your operating system and just like any update in\n",
            "[00:04:22]Windows update it's searching for updates on this computer so it's just the\n",
            "[00:04:26]manual way of doing the Windows update process on your Windows operating system\n",
            "[00:04:31]and this should be finishing soon searching for updates on this computer\n",
            "[00:04:37]and there we go now what will happen here is it'll ask you then if you want\n",
            "[00:04:45]to install it now you can see that Windows update standalone installer I\n",
            "[00:04:48]already have the update on my computer so it won't let me install it so it's\n",
            "[00:04:53]actually a safety net if you already have that update installed it'll just\n",
            "[00:04:57]tell you this update is already installed so what you do if obviously\n",
            "[00:05:02]you are downloading it and it's finished searching you just say install and then\n",
            "[00:05:06]you just follow the steps for the installation process and then you\n",
            "[00:05:10]will have to restart your PC to apply the update and that is basically how you\n",
            "[00:05:16]download and install a Windows update manually on your machine if it is not\n",
            "[00:05:22]downloading correctly through the Windows update process and then when you\n",
            "[00:05:26]go back to your Windows update you will actually see the update if you go to\n",
            "[00:05:30]view update history you will actually see it in the update list on your PC as it\n",
            "[00:05:37]will be installed just like any normal update and that you would have installed\n",
            "[00:05:41]through the Windows update process so I hope you found this video useful once\n",
            "[00:05:46]again thanks for watching and I will see you in the next one\n"
          ]
        }
      ]
    },
    {
      "cell_type": "code",
      "source": [
        "# Preprocess the text to remove timestamps\n",
        "preprocessed_file1 = re.sub(r'\\[\\d+:\\d+:\\d+\\]', '', file1_contents)\n",
        "\n",
        "punctuation_pattern = r'[^\\w\\s]'\n",
        "preprocessed_file1 = re.sub(punctuation_pattern, '', preprocessed_file1)\n",
        "\n",
        "# Split the text into lines\n",
        "file1_lines = preprocessed_file1.split('\\n')\n",
        "\n",
        "# Print the lines\n",
        "for line in file1_lines:\n",
        "    print(line)"
      ],
      "metadata": {
        "colab": {
          "base_uri": "https://localhost:8080/"
        },
        "id": "iir24dPndMlM",
        "outputId": "01593c26-d722-47f5-86f4-3f199ce5dfdf"
      },
      "execution_count": 7,
      "outputs": [
        {
          "output_type": "stream",
          "name": "stdout",
          "text": [
            "Hi Brent here where tech is made simple Ive had a couple of requests over the\n",
            "last while on how to download and install a Windows update manually Now I\n",
            "know a lot of you know how to do this already but in this video I will just\n",
            "demonstrate for those who dont and answer the question on how to download\n",
            "and install a Windows update manually Now Windows updates are delivered to the\n",
            "Windows operating system through the Windows update process and for whatever\n",
            "reason the update will not download and install correctly through the Windows\n",
            "update process you have an alternative solution where you can go and download\n",
            "the update manually from the Microsoft update catalog and normally the download\n",
            "the manual download and installation will get the update to install correctly\n",
            "if it is not working properly in the Windows update download and installation\n",
            "process Now online you just go and do a search for Microsoft update catalog and\n",
            "when you open the update catalog itll just start in the welcome screen and in\n",
            "the search you just enter the update that you are trying to get installed Now\n",
            "as an example Im just going to use last weeks Patch Tuesday cumulative update\n",
            "which rolled out which was KB5005033 and then you just hit\n",
            "enter and on the left you will see all the Windows 10 versions that that update\n",
            "applies to Now if you dont know what version of Windows 10 you are using you\n",
            "just head into your Windows settings system go down to the bottom and just\n",
            "click on about and that will give you all the details if its a 32bit 64bit\n",
            "you know what version youre using and so on and that will answer and you know\n",
            "get you to see what version of Windows 10 youre using if you dont know and\n",
            "then Im using Windows 10 version 21h 164bit so if I click on that actual\n",
            "update it gives me all the update details we can see its 6094 megabytes\n",
            "in size gives you the overview and you can actually go to Microsoft support to\n",
            "see what the update actually addresses you have package details and yeah it\n",
            "says the update replaces the following updates so you can actually see what\n",
            "other updates you have previously installed that this update is actually\n",
            "going to be replacing which is quite handy and then install resources can\n",
            "request restart and so on and if we close that and we just head back to that\n",
            "entry 21h 164bit and I go to the download and I click on that it tells me\n",
            "a cumulative update for Windows 10 version 21h1 and thats for 64bit\n",
            "operating systems KB5005033 now thats exactly how it appears in the\n",
            "Windows update and its exactly the same update that you would get through the\n",
            "Windows update in Windows 10 and then we just click on the download link and now\n",
            "you have two options you can actually click on open where the if you dont\n",
            "know where your download location is this will download and then once the\n",
            "download is finished it will start the installation process automatically and\n",
            "as in this example Im just going to go save it to my download location on my\n",
            "hard drive and Im going to go save as now Ive already downloaded the update\n",
            "and as it will take too long to demonstrate in this video and once its\n",
            "downloaded obviously then you just head over to your download location on your\n",
            "PC and mine is in my file explorer and downloads and here is the package\n",
            "Windows 10 update KB5005033 and then all you do is you double click on that\n",
            "package to start the installation process now it says Windows update\n",
            "standalone installer preparing the installation now depending on obviously\n",
            "the size and speed of your computer this can take a while so basically what its\n",
            "doing is just preparing like any other exe file and package its preparing the\n",
            "installation to be installed onto your Windows operating system and it should\n",
            "be finishing shortly as I have run this already and now its searching for\n",
            "updates on this computer and once again like the previous step this depends on\n",
            "the size and speed of your operating system and just like any update in\n",
            "Windows update its searching for updates on this computer so its just the\n",
            "manual way of doing the Windows update process on your Windows operating system\n",
            "and this should be finishing soon searching for updates on this computer\n",
            "and there we go now what will happen here is itll ask you then if you want\n",
            "to install it now you can see that Windows update standalone installer I\n",
            "already have the update on my computer so it wont let me install it so its\n",
            "actually a safety net if you already have that update installed itll just\n",
            "tell you this update is already installed so what you do if obviously\n",
            "you are downloading it and its finished searching you just say install and then\n",
            "you just follow the steps for the installation process and then you\n",
            "will have to restart your PC to apply the update and that is basically how you\n",
            "download and install a Windows update manually on your machine if it is not\n",
            "downloading correctly through the Windows update process and then when you\n",
            "go back to your Windows update you will actually see the update if you go to\n",
            "view update history you will actually see it in the update list on your PC as it\n",
            "will be installed just like any normal update and that you would have installed\n",
            "through the Windows update process so I hope you found this video useful once\n",
            "again thanks for watching and I will see you in the next one\n"
          ]
        }
      ]
    },
    {
      "cell_type": "code",
      "source": [
        "# Download the required NLTK resources\n",
        "nltk.download('punkt')"
      ],
      "metadata": {
        "colab": {
          "base_uri": "https://localhost:8080/"
        },
        "id": "mRkiSRbveAZS",
        "outputId": "cccba842-48bf-4f14-e820-1873e728000b"
      },
      "execution_count": 9,
      "outputs": [
        {
          "output_type": "stream",
          "name": "stderr",
          "text": [
            "[nltk_data] Downloading package punkt to /root/nltk_data...\n",
            "[nltk_data]   Package punkt is already up-to-date!\n"
          ]
        },
        {
          "output_type": "execute_result",
          "data": {
            "text/plain": [
              "True"
            ]
          },
          "metadata": {},
          "execution_count": 9
        }
      ]
    },
    {
      "cell_type": "code",
      "source": [
        "# Tokenize each line\n",
        "tokenized_lines = []\n",
        "for line in file1_lines:\n",
        "    tokens = nltk.word_tokenize(line)\n",
        "    tokenized_lines.append(tokens)\n",
        "\n",
        "# Print the tokenized lines\n",
        "for tokens in tokenized_lines:\n",
        "    print(tokens)"
      ],
      "metadata": {
        "colab": {
          "base_uri": "https://localhost:8080/"
        },
        "id": "6nXbMQ1Jd6c6",
        "outputId": "24d1705c-84f4-415d-96c1-3ec7ef645609"
      },
      "execution_count": 36,
      "outputs": [
        {
          "output_type": "stream",
          "name": "stdout",
          "text": [
            "['Hi', 'Brent', 'here', 'where', 'tech', 'is', 'made', 'simple', 'Ive', 'had', 'a', 'couple', 'of', 'requests', 'over', 'the']\n",
            "['last', 'while', 'on', 'how', 'to', 'download', 'and', 'install', 'a', 'Windows', 'update', 'manually', 'Now', 'I']\n",
            "['know', 'a', 'lot', 'of', 'you', 'know', 'how', 'to', 'do', 'this', 'already', 'but', 'in', 'this', 'video', 'I', 'will', 'just']\n",
            "['demonstrate', 'for', 'those', 'who', 'dont', 'and', 'answer', 'the', 'question', 'on', 'how', 'to', 'download']\n",
            "['and', 'install', 'a', 'Windows', 'update', 'manually', 'Now', 'Windows', 'updates', 'are', 'delivered', 'to', 'the']\n",
            "['Windows', 'operating', 'system', 'through', 'the', 'Windows', 'update', 'process', 'and', 'for', 'whatever']\n",
            "['reason', 'the', 'update', 'will', 'not', 'download', 'and', 'install', 'correctly', 'through', 'the', 'Windows']\n",
            "['update', 'process', 'you', 'have', 'an', 'alternative', 'solution', 'where', 'you', 'can', 'go', 'and', 'download']\n",
            "['the', 'update', 'manually', 'from', 'the', 'Microsoft', 'update', 'catalog', 'and', 'normally', 'the', 'download']\n",
            "['the', 'manual', 'download', 'and', 'installation', 'will', 'get', 'the', 'update', 'to', 'install', 'correctly']\n",
            "['if', 'it', 'is', 'not', 'working', 'properly', 'in', 'the', 'Windows', 'update', 'download', 'and', 'installation']\n",
            "['process', 'Now', 'online', 'you', 'just', 'go', 'and', 'do', 'a', 'search', 'for', 'Microsoft', 'update', 'catalog', 'and']\n",
            "['when', 'you', 'open', 'the', 'update', 'catalog', 'itll', 'just', 'start', 'in', 'the', 'welcome', 'screen', 'and', 'in']\n",
            "['the', 'search', 'you', 'just', 'enter', 'the', 'update', 'that', 'you', 'are', 'trying', 'to', 'get', 'installed', 'Now']\n",
            "['as', 'an', 'example', 'Im', 'just', 'going', 'to', 'use', 'last', 'weeks', 'Patch', 'Tuesday', 'cumulative', 'update']\n",
            "['which', 'rolled', 'out', 'which', 'was', 'KB5005033', 'and', 'then', 'you', 'just', 'hit']\n",
            "['enter', 'and', 'on', 'the', 'left', 'you', 'will', 'see', 'all', 'the', 'Windows', '10', 'versions', 'that', 'that', 'update']\n",
            "['applies', 'to', 'Now', 'if', 'you', 'dont', 'know', 'what', 'version', 'of', 'Windows', '10', 'you', 'are', 'using', 'you']\n",
            "['just', 'head', 'into', 'your', 'Windows', 'settings', 'system', 'go', 'down', 'to', 'the', 'bottom', 'and', 'just']\n",
            "['click', 'on', 'about', 'and', 'that', 'will', 'give', 'you', 'all', 'the', 'details', 'if', 'its', 'a', '32bit', '64bit']\n",
            "['you', 'know', 'what', 'version', 'youre', 'using', 'and', 'so', 'on', 'and', 'that', 'will', 'answer', 'and', 'you', 'know']\n",
            "['get', 'you', 'to', 'see', 'what', 'version', 'of', 'Windows', '10', 'youre', 'using', 'if', 'you', 'dont', 'know', 'and']\n",
            "['then', 'Im', 'using', 'Windows', '10', 'version', '21h', '164bit', 'so', 'if', 'I', 'click', 'on', 'that', 'actual']\n",
            "['update', 'it', 'gives', 'me', 'all', 'the', 'update', 'details', 'we', 'can', 'see', 'its', '6094', 'megabytes']\n",
            "['in', 'size', 'gives', 'you', 'the', 'overview', 'and', 'you', 'can', 'actually', 'go', 'to', 'Microsoft', 'support', 'to']\n",
            "['see', 'what', 'the', 'update', 'actually', 'addresses', 'you', 'have', 'package', 'details', 'and', 'yeah', 'it']\n",
            "['says', 'the', 'update', 'replaces', 'the', 'following', 'updates', 'so', 'you', 'can', 'actually', 'see', 'what']\n",
            "['other', 'updates', 'you', 'have', 'previously', 'installed', 'that', 'this', 'update', 'is', 'actually']\n",
            "['going', 'to', 'be', 'replacing', 'which', 'is', 'quite', 'handy', 'and', 'then', 'install', 'resources', 'can']\n",
            "['request', 'restart', 'and', 'so', 'on', 'and', 'if', 'we', 'close', 'that', 'and', 'we', 'just', 'head', 'back', 'to', 'that']\n",
            "['entry', '21h', '164bit', 'and', 'I', 'go', 'to', 'the', 'download', 'and', 'I', 'click', 'on', 'that', 'it', 'tells', 'me']\n",
            "['a', 'cumulative', 'update', 'for', 'Windows', '10', 'version', '21h1', 'and', 'thats', 'for', '64bit']\n",
            "['operating', 'systems', 'KB5005033', 'now', 'thats', 'exactly', 'how', 'it', 'appears', 'in', 'the']\n",
            "['Windows', 'update', 'and', 'its', 'exactly', 'the', 'same', 'update', 'that', 'you', 'would', 'get', 'through', 'the']\n",
            "['Windows', 'update', 'in', 'Windows', '10', 'and', 'then', 'we', 'just', 'click', 'on', 'the', 'download', 'link', 'and', 'now']\n",
            "['you', 'have', 'two', 'options', 'you', 'can', 'actually', 'click', 'on', 'open', 'where', 'the', 'if', 'you', 'dont']\n",
            "['know', 'where', 'your', 'download', 'location', 'is', 'this', 'will', 'download', 'and', 'then', 'once', 'the']\n",
            "['download', 'is', 'finished', 'it', 'will', 'start', 'the', 'installation', 'process', 'automatically', 'and']\n",
            "['as', 'in', 'this', 'example', 'Im', 'just', 'going', 'to', 'go', 'save', 'it', 'to', 'my', 'download', 'location', 'on', 'my']\n",
            "['hard', 'drive', 'and', 'Im', 'going', 'to', 'go', 'save', 'as', 'now', 'Ive', 'already', 'downloaded', 'the', 'update']\n",
            "['and', 'as', 'it', 'will', 'take', 'too', 'long', 'to', 'demonstrate', 'in', 'this', 'video', 'and', 'once', 'its']\n",
            "['downloaded', 'obviously', 'then', 'you', 'just', 'head', 'over', 'to', 'your', 'download', 'location', 'on', 'your']\n",
            "['PC', 'and', 'mine', 'is', 'in', 'my', 'file', 'explorer', 'and', 'downloads', 'and', 'here', 'is', 'the', 'package']\n",
            "['Windows', '10', 'update', 'KB5005033', 'and', 'then', 'all', 'you', 'do', 'is', 'you', 'double', 'click', 'on', 'that']\n",
            "['package', 'to', 'start', 'the', 'installation', 'process', 'now', 'it', 'says', 'Windows', 'update']\n",
            "['standalone', 'installer', 'preparing', 'the', 'installation', 'now', 'depending', 'on', 'obviously']\n",
            "['the', 'size', 'and', 'speed', 'of', 'your', 'computer', 'this', 'can', 'take', 'a', 'while', 'so', 'basically', 'what', 'its']\n",
            "['doing', 'is', 'just', 'preparing', 'like', 'any', 'other', 'exe', 'file', 'and', 'package', 'its', 'preparing', 'the']\n",
            "['installation', 'to', 'be', 'installed', 'onto', 'your', 'Windows', 'operating', 'system', 'and', 'it', 'should']\n",
            "['be', 'finishing', 'shortly', 'as', 'I', 'have', 'run', 'this', 'already', 'and', 'now', 'its', 'searching', 'for']\n",
            "['updates', 'on', 'this', 'computer', 'and', 'once', 'again', 'like', 'the', 'previous', 'step', 'this', 'depends', 'on']\n",
            "['the', 'size', 'and', 'speed', 'of', 'your', 'operating', 'system', 'and', 'just', 'like', 'any', 'update', 'in']\n",
            "['Windows', 'update', 'its', 'searching', 'for', 'updates', 'on', 'this', 'computer', 'so', 'its', 'just', 'the']\n",
            "['manual', 'way', 'of', 'doing', 'the', 'Windows', 'update', 'process', 'on', 'your', 'Windows', 'operating', 'system']\n",
            "['and', 'this', 'should', 'be', 'finishing', 'soon', 'searching', 'for', 'updates', 'on', 'this', 'computer']\n",
            "['and', 'there', 'we', 'go', 'now', 'what', 'will', 'happen', 'here', 'is', 'itll', 'ask', 'you', 'then', 'if', 'you', 'want']\n",
            "['to', 'install', 'it', 'now', 'you', 'can', 'see', 'that', 'Windows', 'update', 'standalone', 'installer', 'I']\n",
            "['already', 'have', 'the', 'update', 'on', 'my', 'computer', 'so', 'it', 'wont', 'let', 'me', 'install', 'it', 'so', 'its']\n",
            "['actually', 'a', 'safety', 'net', 'if', 'you', 'already', 'have', 'that', 'update', 'installed', 'itll', 'just']\n",
            "['tell', 'you', 'this', 'update', 'is', 'already', 'installed', 'so', 'what', 'you', 'do', 'if', 'obviously']\n",
            "['you', 'are', 'downloading', 'it', 'and', 'its', 'finished', 'searching', 'you', 'just', 'say', 'install', 'and', 'then']\n",
            "['you', 'just', 'follow', 'the', 'steps', 'for', 'the', 'installation', 'process', 'and', 'then', 'you']\n",
            "['will', 'have', 'to', 'restart', 'your', 'PC', 'to', 'apply', 'the', 'update', 'and', 'that', 'is', 'basically', 'how', 'you']\n",
            "['download', 'and', 'install', 'a', 'Windows', 'update', 'manually', 'on', 'your', 'machine', 'if', 'it', 'is', 'not']\n",
            "['downloading', 'correctly', 'through', 'the', 'Windows', 'update', 'process', 'and', 'then', 'when', 'you']\n",
            "['go', 'back', 'to', 'your', 'Windows', 'update', 'you', 'will', 'actually', 'see', 'the', 'update', 'if', 'you', 'go', 'to']\n",
            "['view', 'update', 'history', 'you', 'will', 'actually', 'see', 'it', 'in', 'the', 'update', 'list', 'on', 'your', 'PC', 'as', 'it']\n",
            "['will', 'be', 'installed', 'just', 'like', 'any', 'normal', 'update', 'and', 'that', 'you', 'would', 'have', 'installed']\n",
            "['through', 'the', 'Windows', 'update', 'process', 'so', 'I', 'hope', 'you', 'found', 'this', 'video', 'useful', 'once']\n",
            "['again', 'thanks', 'for', 'watching', 'and', 'I', 'will', 'see', 'you', 'in', 'the', 'next', 'one']\n"
          ]
        }
      ]
    },
    {
      "cell_type": "code",
      "source": [
        "# Save the first tokenized line\n",
        "tokenized_lines_1 = tokenized_lines[0]\n",
        "\n",
        "# Print the first tokenized line\n",
        "print(tokenized_lines_1)"
      ],
      "metadata": {
        "colab": {
          "base_uri": "https://localhost:8080/"
        },
        "id": "cj2o2JOtkasr",
        "outputId": "ca6b7a91-6274-4e95-88b5-2b8aa50d3446"
      },
      "execution_count": 37,
      "outputs": [
        {
          "output_type": "stream",
          "name": "stdout",
          "text": [
            "['Hi', 'Brent', 'here', 'where', 'tech', 'is', 'made', 'simple', 'Ive', 'had', 'a', 'couple', 'of', 'requests', 'over', 'the']\n"
          ]
        }
      ]
    },
    {
      "cell_type": "code",
      "source": [
        "# Read the file into a string\n",
        "with open('Example_1_summary.txt', 'r') as file:\n",
        "    file2_contents = file.readlines()\n",
        "\n",
        "bullet_char = '- '\n",
        "punctuation_pattern = r'[-,\\.]+'\n",
        "\n",
        "# Display just the bullet points\n",
        "for line in file2_contents:\n",
        "    if line.startswith(bullet_char):\n",
        "        cleaned_line = re.sub(punctuation_pattern, '', line.strip())\n",
        "        print(cleaned_line)"
      ],
      "metadata": {
        "colab": {
          "base_uri": "https://localhost:8080/"
        },
        "id": "ovrU_14cedgo",
        "outputId": "bb73da1d-07dc-4df6-bb62-801877a8acfc"
      },
      "execution_count": 38,
      "outputs": [
        {
          "output_type": "stream",
          "name": "stdout",
          "text": [
            " Windows updates can sometimes fail to install automatically; manual installation is an alternative\n",
            " To manually download an update use the Microsoft Update Catalog website\n",
            " Search for the specific update needed by its KB number; for example KB5005033\n",
            " Before downloading verify your Windows version and system type (eg 32bit or 64bit) in your system settings\n",
            " Download and save the update file then execute it to begin installation which may require a system restart to complete\n"
          ]
        }
      ]
    },
    {
      "cell_type": "code",
      "source": [
        "# Display and tokenize the bullet points\n",
        "tokenized_bullet_points = []\n",
        "for line in file2_contents:\n",
        "    if line.startswith(bullet_char):\n",
        "        cleaned_line = re.sub(punctuation_pattern, '', line.strip())\n",
        "\n",
        "        # Tokenize the cleaned line\n",
        "        tokens = nltk.word_tokenize(cleaned_line)\n",
        "        tokenized_bullet_points.append(tokens)\n",
        "\n",
        "# Print the tokenized bullet points\n",
        "for tokens in tokenized_bullet_points:\n",
        "    print(tokens)"
      ],
      "metadata": {
        "colab": {
          "base_uri": "https://localhost:8080/"
        },
        "id": "QFgpD9avexoW",
        "outputId": "9821797b-6dcc-47a4-dce4-e6edea81909f"
      },
      "execution_count": 39,
      "outputs": [
        {
          "output_type": "stream",
          "name": "stdout",
          "text": [
            "['Windows', 'updates', 'can', 'sometimes', 'fail', 'to', 'install', 'automatically', ';', 'manual', 'installation', 'is', 'an', 'alternative']\n",
            "['To', 'manually', 'download', 'an', 'update', 'use', 'the', 'Microsoft', 'Update', 'Catalog', 'website']\n",
            "['Search', 'for', 'the', 'specific', 'update', 'needed', 'by', 'its', 'KB', 'number', ';', 'for', 'example', 'KB5005033']\n",
            "['Before', 'downloading', 'verify', 'your', 'Windows', 'version', 'and', 'system', 'type', '(', 'eg', '32bit', 'or', '64bit', ')', 'in', 'your', 'system', 'settings']\n",
            "['Download', 'and', 'save', 'the', 'update', 'file', 'then', 'execute', 'it', 'to', 'begin', 'installation', 'which', 'may', 'require', 'a', 'system', 'restart', 'to', 'complete']\n"
          ]
        }
      ]
    },
    {
      "cell_type": "code",
      "source": [
        "# Display the first tokenized bullet point\n",
        "print(tokenized_bullet_points[0])"
      ],
      "metadata": {
        "colab": {
          "base_uri": "https://localhost:8080/"
        },
        "id": "lRpJQdy9iDLe",
        "outputId": "1ccd1cef-37a4-40f3-e723-81717b1d475f"
      },
      "execution_count": 51,
      "outputs": [
        {
          "output_type": "stream",
          "name": "stdout",
          "text": [
            "['Windows', 'updates', 'can', 'sometimes', 'fail', 'to', 'install', 'automatically', ';', 'manual', 'installation', 'is', 'an', 'alternative']\n"
          ]
        }
      ]
    },
    {
      "cell_type": "code",
      "source": [
        "import difflib\n",
        "\n",
        "# Convert tokenized_bullet_points[0] to a string\n",
        "first_bullet_point_str = ' '.join(tokenized_bullet_points[0])\n",
        "\n",
        "# Find the index of the closest match in tokenized_lines\n",
        "closest_match_index = None\n",
        "for i, line in enumerate(tokenized_lines):\n",
        "    line_str = ' '.join(line)\n",
        "    if line_str == ' '.join(closest_match):\n",
        "        closest_match_index = i\n",
        "        break\n",
        "\n",
        "if closest_match_index is not None:\n",
        "    print(f\"The closest match to '{first_bullet_point_str}' in tokenized_lines is:\")\n",
        "    print(f\"tokenized_lines[{closest_match_index}] = {tokenized_lines[closest_match_index]}\")\n",
        "else:\n",
        "    print(\"No close match found in tokenized_lines.\")"
      ],
      "metadata": {
        "colab": {
          "base_uri": "https://localhost:8080/"
        },
        "id": "1FdxsBwqlvye",
        "outputId": "54e0610c-7f6d-4ebf-b3e2-aa387ad8c031"
      },
      "execution_count": 50,
      "outputs": [
        {
          "output_type": "stream",
          "name": "stdout",
          "text": [
            "The closest match to 'Windows updates can sometimes fail to install automatically ; manual installation is an alternative' in tokenized_lines is:\n",
            "tokenized_lines[27] = ['other', 'updates', 'you', 'have', 'previously', 'installed', 'that', 'this', 'update', 'is', 'actually']\n"
          ]
        }
      ]
    }
  ]
}