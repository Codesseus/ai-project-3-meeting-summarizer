{
 "cells": [
  {
   "cell_type": "code",
   "execution_count": 13,
   "metadata": {},
   "outputs": [
    {
     "name": "stderr",
     "output_type": "stream",
     "text": [
      "[nltk_data] Downloading package punkt to\n",
      "[nltk_data]     C:\\Users\\Garzo\\AppData\\Roaming\\nltk_data...\n",
      "[nltk_data]   Package punkt is already up-to-date!\n"
     ]
    },
    {
     "data": {
      "text/plain": [
       "True"
      ]
     },
     "execution_count": 13,
     "metadata": {},
     "output_type": "execute_result"
    }
   ],
   "source": [
    "import nltk\n",
    "from nltk.tokenize import sent_tokenize\n",
    "nltk.download('punkt')"
   ]
  },
  {
   "cell_type": "markdown",
   "metadata": {},
   "source": [
    "## Read the text file"
   ]
  },
  {
   "cell_type": "code",
   "execution_count": 15,
   "metadata": {},
   "outputs": [],
   "source": [
    "with open('resources\\Output_Text\\Example_1_with_timestamps.txt', 'r', encoding='utf-8') as file:\n",
    "    text = file.read()\n",
    "\n",
    "sentences = sent_tokenize(text)"
   ]
  },
  {
   "cell_type": "markdown",
   "metadata": {},
   "source": [
    "## Display tokenized sentences"
   ]
  },
  {
   "cell_type": "code",
   "execution_count": 7,
   "metadata": {},
   "outputs": [
    {
     "name": "stdout",
     "output_type": "stream",
     "text": [
      "Hi Brent here where tech is made simple.\n",
      "I've had a couple of requests over the last while on how to download and install a Windows update manually.\n",
      "Now I know a lot of you know how to do this already but in this video I will just demonstrate for those who don't and answer the question on how to download and install a Windows update manually.\n",
      "Now Windows updates are delivered to the Windows operating system through the Windows update process and for whatever reason the update will not download and install correctly through the Windows update process you have an alternative solution where you can go and download the update manually from the Microsoft update catalog and normally the download the manual download and installation will get the update to install correctly if it is not working properly in the Windows update download and installation process.\n",
      "Now online you just go and do a search for Microsoft update catalog and when you open the update catalog it'll just start in the welcome screen and in the search you just enter the update that you are trying to get installed.\n",
      "Now as an example I'm just going to use last week's Patch Tuesday cumulative update which rolled out which was KB5005033 and then you just hit enter and on the left you will see all the Windows 10 versions that that update applies to.\n",
      "Now if you don't know what version of Windows 10 you are using you just head into your Windows settings system go down to the bottom and just click on about and that will give you all the details if it's a 32-bit 64-bit you know what version you're using and so on and that will answer and you know get you to see what version of Windows 10 you're using if you don't know and then I'm using Windows 10 version 21h 164-bit so if I click on that actual update it gives me all the update details we can see it's 609.4 megabytes in size gives you the overview and you can actually go to Microsoft support to see what the update actually addresses you have package details and yeah it says the update replaces the following updates so you can actually see what other updates you have previously installed that this update is actually going to be replacing which is quite handy and then install resources can request restart and so on and if we close that and we just head back to that entry 21h 164-bit and I go to the download and I click on that it tells me a cumulative update for Windows 10 version 21h1 and that's for 64-bit operating systems KB5005033 now that's exactly how it appears in the Windows update and it's exactly the same update that you would get through the Windows update in Windows 10 and then we just click on the download link and now you have two options you can actually click on open where the if you don't know where your download location is this will download and then once the download is finished it will start the installation process automatically and as in this example I'm just going to go save it to my download location on my hard drive and I'm going to go save as now I've already downloaded the update and as it will take too long to demonstrate in this video and once it's downloaded obviously then you just head over to your download location on your PC and mine is in my file explorer and downloads and here is the package Windows 10 update KB5005033 and then all you do is you double click on that package to start the installation process now it says Windows update standalone installer preparing the installation now depending on obviously the size and speed of your computer this can take a while so basically what it's doing is just preparing like any other exe file and package it's preparing the installation to be installed onto your Windows operating system and it should be finishing shortly as I have run this already and now it's searching for updates on this computer and once again like the previous step this depends on the size and speed of your operating system and just like any update in Windows update it's searching for updates on this computer so it's just the manual way of doing the Windows update process on your Windows operating system and this should be finishing soon searching for updates on this computer and there we go now what will happen here is it'll ask you then if you want to install it now you can see that Windows update standalone installer I already have the update on my computer so it won't let me install it so it's actually a safety net if you already have that update installed it'll just tell you this update is already installed so what you do if obviously you are downloading it and it's finished searching you just say install and then you just follow the steps for the installation process and then you will have to restart your PC to apply the update and that is basically how you download and install a Windows update manually on your machine if it is not downloading correctly through the Windows update process and then when you go back to your Windows update you will actually see the update if you go to view update history you will actually see it in the update list on your PC as it will be installed just like any normal update and that you would have installed through the Windows update process so I hope you found this video useful once again thanks for watching and I will see you in the next one\n"
     ]
    }
   ],
   "source": [
    "for sentence in sentences:\n",
    "    print(sentence)"
   ]
  },
  {
   "cell_type": "code",
   "execution_count": 16,
   "metadata": {},
   "outputs": [
    {
     "name": "stdout",
     "output_type": "stream",
     "text": [
      "[00:00:00]Hi Brent here where tech is made simple.\n",
      "I've had a couple of requests over the\n",
      "[00:00:06]last while on how to download and install a Windows update manually.\n",
      "Now I\n",
      "[00:00:11]know a lot of you know how to do this already but in this video I will just\n",
      "[00:00:14]demonstrate for those who don't and answer the question on how to download\n",
      "[00:00:19]and install a Windows update manually.\n",
      "Now Windows updates are delivered to the\n",
      "[00:00:24]Windows operating system through the Windows update process and for whatever\n",
      "[00:00:28]reason the update will not download and install correctly through the Windows\n",
      "[00:00:32]update process you have an alternative solution where you can go and download\n",
      "[00:00:38]the update manually from the Microsoft update catalog and normally the download\n",
      "[00:00:43]the manual download and installation will get the update to install correctly\n",
      "[00:00:48]if it is not working properly in the Windows update download and installation\n",
      "[00:00:52]process.\n",
      "Now online you just go and do a search for Microsoft update catalog and\n",
      "[00:00:58]when you open the update catalog it'll just start in the welcome screen and in\n",
      "[00:01:03]the search you just enter the update that you are trying to get installed.\n",
      "Now\n",
      "[00:01:08]as an example I'm just going to use last week's Patch Tuesday cumulative update\n",
      "[00:01:13]which rolled out which was KB5005033 and then you just hit\n",
      "[00:01:19]enter and on the left you will see all the Windows 10 versions that that update\n",
      "[00:01:25]applies to.\n",
      "Now if you don't know what version of Windows 10 you are using you\n",
      "[00:01:30]just head into your Windows settings system go down to the bottom and just\n",
      "[00:01:35]click on about and that will give you all the details if it's a 32-bit 64-bit\n",
      "[00:01:40]you know what version you're using and so on and that will answer and you know\n",
      "[00:01:45]get you to see what version of Windows 10 you're using if you don't know and\n",
      "[00:01:49]then I'm using Windows 10 version 21h 164-bit so if I click on that actual\n",
      "[00:01:57]update it gives me all the update details we can see it's 609.4 megabytes\n",
      "[00:02:03]in size gives you the overview and you can actually go to Microsoft support to\n",
      "[00:02:08]see what the update actually addresses you have package details and yeah it\n",
      "[00:02:13]says the update replaces the following updates so you can actually see what\n",
      "[00:02:19]other updates you have previously installed that this update is actually\n",
      "[00:02:22]going to be replacing which is quite handy and then install resources can\n",
      "[00:02:27]request restart and so on and if we close that and we just head back to that\n",
      "[00:02:31]entry 21h 164-bit and I go to the download and I click on that it tells me\n",
      "[00:02:39]a cumulative update for Windows 10 version 21h1 and that's for 64-bit\n",
      "[00:02:44]operating systems KB5005033 now that's exactly how it appears in the\n",
      "[00:02:50]Windows update and it's exactly the same update that you would get through the\n",
      "[00:02:54]Windows update in Windows 10 and then we just click on the download link and now\n",
      "[00:02:59]you have two options you can actually click on open where the if you don't\n",
      "[00:03:05]know where your download location is this will download and then once the\n",
      "[00:03:09]download is finished it will start the installation process automatically and\n",
      "[00:03:13]as in this example I'm just going to go save it to my download location on my\n",
      "[00:03:19]hard drive and I'm going to go save as now I've already downloaded the update\n",
      "[00:03:23]and as it will take too long to demonstrate in this video and once it's\n",
      "[00:03:27]downloaded obviously then you just head over to your download location on your\n",
      "[00:03:33]PC and mine is in my file explorer and downloads and here is the package\n",
      "[00:03:39]Windows 10 update KB5005033 and then all you do is you double click on that\n",
      "[00:03:45]package to start the installation process now it says Windows update\n",
      "[00:03:50]standalone installer preparing the installation now depending on obviously\n",
      "[00:03:55]the size and speed of your computer this can take a while so basically what it's\n",
      "[00:03:59]doing is just preparing like any other exe file and package it's preparing the\n",
      "[00:04:04]installation to be installed onto your Windows operating system and it should\n",
      "[00:04:09]be finishing shortly as I have run this already and now it's searching for\n",
      "[00:04:12]updates on this computer and once again like the previous step this depends on\n",
      "[00:04:17]the size and speed of your operating system and just like any update in\n",
      "[00:04:22]Windows update it's searching for updates on this computer so it's just the\n",
      "[00:04:26]manual way of doing the Windows update process on your Windows operating system\n",
      "[00:04:31]and this should be finishing soon searching for updates on this computer\n",
      "[00:04:37]and there we go now what will happen here is it'll ask you then if you want\n",
      "[00:04:45]to install it now you can see that Windows update standalone installer I\n",
      "[00:04:48]already have the update on my computer so it won't let me install it so it's\n",
      "[00:04:53]actually a safety net if you already have that update installed it'll just\n",
      "[00:04:57]tell you this update is already installed so what you do if obviously\n",
      "[00:05:02]you are downloading it and it's finished searching you just say install and then\n",
      "[00:05:06]you just follow the steps for the installation process and then you\n",
      "[00:05:10]will have to restart your PC to apply the update and that is basically how you\n",
      "[00:05:16]download and install a Windows update manually on your machine if it is not\n",
      "[00:05:22]downloading correctly through the Windows update process and then when you\n",
      "[00:05:26]go back to your Windows update you will actually see the update if you go to\n",
      "[00:05:30]view update history you will actually see it in the update list on your PC as it\n",
      "[00:05:37]will be installed just like any normal update and that you would have installed\n",
      "[00:05:41]through the Windows update process so I hope you found this video useful once\n",
      "[00:05:46]again thanks for watching and I will see you in the next one\n"
     ]
    }
   ],
   "source": [
    "for sentence in sentences:\n",
    "    print(sentence)"
   ]
  },
  {
   "cell_type": "code",
   "execution_count": 17,
   "metadata": {},
   "outputs": [],
   "source": [
    "import json\n",
    "\n",
    "with open('resources\\Output_Text\\Example_1_nTS_Token.json', 'w', encoding='utf-8') as file:\n",
    "    json.dump(sentences, file, ensure_ascii=False, indent=4)"
   ]
  },
  {
   "cell_type": "markdown",
   "metadata": {},
   "source": [
    "## Map the tokened sentences to bullet points"
   ]
  },
  {
   "cell_type": "code",
   "execution_count": 24,
   "metadata": {},
   "outputs": [
    {
     "name": "stdout",
     "output_type": "stream",
     "text": [
      "The video provides a comprehensive guide on how to manually download and install a Windows update, specifically addressing situations where automatic updates through the Windows Update process fail. The presenter, Brent, explains the steps involved in this manual process, using the Microsoft Update Catalog to find and download the necessary files.\n",
      "• Brent begins by acknowledging that some viewers might already know how to manually update Windows but proceeds to explain the process for those who do not. He describes how Windows updates are typically delivered and installed automatically but notes that sometimes these updates may fail. In such cases, he recommends using the Microsoft Update Catalog as an alternative. He details how to navigate to this online resource, search for the specific update needed (using KB5005033 as an example), and identify the correct version for the user's system. This part of the video covers the initial steps of accessing the Microsoft Update Catalog and preparing to search for an update. [00:00:00-00:01:08]\n",
      "• Next, Brent demonstrates how to use the Microsoft Update Catalog. He shows how to enter the update number (KB5005033) in the search bar and select the appropriate version of Windows 10 from the search results. He emphasizes the importance of knowing your system's details, such as whether it's 32-bit or 64-bit and its version number, which can be found in the system settings under \"About.\" He then selects the update for Windows 10 version 21H1 64-bit, showing the details of the update including its size and what previous updates it replaces. This segment is crucial for understanding how to correctly identify and select the update needed for your specific system configuration. [00:01:08-00:02:50]\n",
      "• In the final part of the video, Brent goes through the actual download and installation process. He explains two options for downloading the update: directly opening the file or saving it to a specific location on the hard drive. He opts to save the file, noting that he has pre-downloaded it to save time during the demonstration. Brent then shows how to navigate to the download location and initiate the installation by double-clicking the downloaded file. He describes the installation process, including the system's verification of the need for the update and the final steps to complete the installation. This section is particularly detailed, providing viewers with a step-by-step guide on how to execute the installation once the update file is downloaded. [00:02:50-00:05:46]\n",
      "This video serves as a detailed tutorial for users needing to manually update their Windows operating system, ensuring they can successfully download and install required updates even when automatic processes fail.\n"
     ]
    }
   ],
   "source": [
    "with open('resources\\Output_Sum_BP\\Summary1_test.txt', 'r', encoding='utf-8') as file:\n",
    "    summary_text = file.read()\n",
    "\n",
    "print(summary_text)"
   ]
  },
  {
   "cell_type": "code",
   "execution_count": 26,
   "metadata": {},
   "outputs": [
    {
     "name": "stdout",
     "output_type": "stream",
     "text": [
      "Bullet Point 1:\n",
      "The video provides a comprehensive guide on how to manually download and install a Windows update, specifically addressing situations where automatic updates through the Windows Update process fail.\n",
      "The presenter, Brent, explains the steps involved in this manual process, using the Microsoft Update Catalog to find and download the necessary files.\n",
      "• Brent begins by acknowledging that some viewers might already know how to manually update Windows but proceeds to explain the process for those who do not.\n",
      "He describes how Windows updates are typically delivered and installed automatically but notes that sometimes these updates may fail.\n",
      "In such cases, he recommends using the Microsoft Update Catalog as an alternative.\n",
      "He details how to navigate to this online resource, search for the specific update needed (using KB5005033 as an example), and identify the correct version for the user's system.\n",
      "This part of the video covers the initial steps of accessing the Microsoft Update Catalog and preparing to search for an update.\n",
      "[00:00:00-00:01:08]\n",
      "• Next, Brent demonstrates how to use the Microsoft Update Catalog.\n",
      "He shows how to enter the update number (KB5005033) in the search bar and select the appropriate version of Windows 10 from the search results.\n",
      "He emphasizes the importance of knowing your system's details, such as whether it's 32-bit or 64-bit and its version number, which can be found in the system settings under \"About.\"\n",
      "He then selects the update for Windows 10 version 21H1 64-bit, showing the details of the update including its size and what previous updates it replaces.\n",
      "This segment is crucial for understanding how to correctly identify and select the update needed for your specific system configuration.\n",
      "[00:01:08-00:02:50]\n",
      "• In the final part of the video, Brent goes through the actual download and installation process.\n",
      "He explains two options for downloading the update: directly opening the file or saving it to a specific location on the hard drive.\n",
      "He opts to save the file, noting that he has pre-downloaded it to save time during the demonstration.\n",
      "Brent then shows how to navigate to the download location and initiate the installation by double-clicking the downloaded file.\n",
      "He describes the installation process, including the system's verification of the need for the update and the final steps to complete the installation.\n",
      "This section is particularly detailed, providing viewers with a step-by-step guide on how to execute the installation once the update file is downloaded.\n",
      "[00:02:50-00:05:46]\n",
      "This video serves as a detailed tutorial for users needing to manually update their Windows operating system, ensuring they can successfully download and install required updates even when automatic processes fail.\n",
      "\n"
     ]
    }
   ],
   "source": [
    "import nltk\n",
    "from nltk.tokenize import sent_tokenize\n",
    "\n",
    "# Open the file and read its contents\n",
    "with open('resources\\Output_Sum_BP\\Summary1_test.txt', 'r', encoding='utf-8') as file:\n",
    "    text = file.read()\n",
    "\n",
    "# Split the text into bullet points\n",
    "bullet_points = text.split('\\n\\n')\n",
    "\n",
    "# Tokenize each bullet point into sentences\n",
    "tokenized_bullet_points = []\n",
    "for bullet_point in bullet_points:\n",
    "    sentences = sent_tokenize(bullet_point)\n",
    "    tokenized_bullet_points.append(sentences)\n",
    "\n",
    "# Print the tokenized bullet points\n",
    "for i, bullet_point in enumerate(tokenized_bullet_points, start=1):\n",
    "    print(f\"Bullet Point {i}:\")\n",
    "    for sentence in bullet_point:\n",
    "        print(sentence)\n",
    "    print()\n",
    "\n",
    "    # gpt model wk 21, split them in a way to extract the bullet points"
   ]
  }
 ],
 "metadata": {
  "kernelspec": {
   "display_name": "dev",
   "language": "python",
   "name": "python3"
  },
  "language_info": {
   "codemirror_mode": {
    "name": "ipython",
    "version": 3
   },
   "file_extension": ".py",
   "mimetype": "text/x-python",
   "name": "python",
   "nbconvert_exporter": "python",
   "pygments_lexer": "ipython3",
   "version": "3.10.13"
  }
 },
 "nbformat": 4,
 "nbformat_minor": 2
}
